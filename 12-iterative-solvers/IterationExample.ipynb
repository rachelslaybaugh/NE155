{
 "metadata": {
  "name": ""
 },
 "nbformat": 3,
 "nbformat_minor": 0,
 "worksheets": [
  {
   "cells": [
    {
     "cell_type": "heading",
     "level": 1,
     "metadata": {},
     "source": [
      "Example: compare GS and SOR"
     ]
    },
    {
     "cell_type": "markdown",
     "metadata": {},
     "source": [
      "Let's look at \n",
      "\n",
      "$$\n",
      "\\begin{equation}\n",
      "\\begin{pmatrix}\n",
      "  4  &  3 & 0 \\\\\n",
      "  3  &  4 & -1 \\\\\n",
      "  0  & -1 & 4\n",
      "\\end{pmatrix}\n",
      "%\n",
      "\\begin{pmatrix} x_1 \\\\ x_2 \\\\ x_3 \\end{pmatrix} \n",
      "%\n",
      "= \\begin{pmatrix} 24 \\\\ 30 \\\\ -24 \\end{pmatrix} \\nonumber\n",
      "\\end{equation}\n",
      "$$\n",
      "\n",
      "with both GS and SOR. In  both cases we'll start with $\\vec{x}^{(0)} = [1, 1, 1]^T$. \n",
      "\n",
      "The exact solution is $[3, 4, -5]^T$."
     ]
    },
    {
     "cell_type": "heading",
     "level": 2,
     "metadata": {},
     "source": [
      "Gauss Seidel"
     ]
    },
    {
     "cell_type": "markdown",
     "metadata": {},
     "source": [
      "Recall:\n",
      "\n",
      "for $i = 1, \\dots, n$:\n",
      "$$\\qquad x^{(k+1)}_i = \\frac{1}{a_{ii}}(b_i - \\sum_{j=1}^{i-1} a_{ij} x_j^{(k+1)} - \\sum_{j=i+1}^{n} a_{ij} x_j^{(k)}) \\:.$$\n",
      "\n",
      "Writing this out for our case gives\n",
      "\n",
      "\\begin{align}\n",
      "x_1^{(k+1)} &= \\frac{1}{4}(24 - 3 x_2^{(k)} - 0 x_3^{(k)}) \n",
      "= 6 - \\frac{3}{4}x_2^{(k)} \\nonumber \\\\\n",
      "%\n",
      "x_2^{(k+1)} &= \\frac{1}{4}(30 - 3 x_1^{(k+1)} - (-1) x_3^{(k)}) \n",
      "= \\frac{30}{4} - \\frac{3}{4}x_1^{(k+1)} + \\frac{1}{4}x_3^{(k)}\\nonumber \\\\\n",
      "%\n",
      "x_3^{(k+1)} &= \\frac{1}{4}(-24 - 0 x_1^{(k+1)} - (-1) x_2^{(k+1)}) \n",
      "= -6 + \\frac{1}{4}x_2^{(k+1)}\\nonumber\n",
      "\\end{align}"
     ]
    },
    {
     "cell_type": "code",
     "collapsed": false,
     "input": [
      "%matplotlib inline\n",
      "import numpy as np\n",
      "import matplotlib.pyplot as plt\n",
      "\n",
      "def GS(A, b, x_0, K, ref):\n",
      "\n",
      "    # Define the size of our system\n",
      "    n = len(x_0)\n",
      "    \n",
      "    # We've got an initial guess, x_0, and an iteration count to hit, K\n",
      "    # To track progress through the iterations, we'll store all of our\n",
      "    # estimates. You wouldn't typically do this, but we will for illustration.\n",
      "    x = np.zeros((K+1, n))\n",
      "    x[0] = x_0\n",
      "    # We'd also like to track our error (since we know the real solution)\n",
      "    error = np.zeros((K+1, n))\n",
      "    error[0] = np.abs(ref - x[0])\n",
      "    \n",
      "    for k in range(0,K):\n",
      "\n",
      "        for i in range(0, n):\n",
      "\n",
      "            # Initialize the summation terms to zero on each iteration\n",
      "            sum_1 = 0.0\n",
      "            sum_2 = 0.0\n",
      "\n",
      "            # the k+1 term from 0 to i-1 \n",
      "            for j in range(i):\n",
      "\n",
      "                sum_1 = sum_1 + A[i][j] * x[k+1][j]\n",
      "\n",
      "            # the k term from i+1 to n-1\n",
      "            for j in range(i+1, n):\n",
      "\n",
      "                sum_2 = sum_2 + A[i][j] * x[k][j]\n",
      "\n",
      "            x[k+1][i] = 1.0/A[i][i] * (b[i] - sum_1 - sum_2)\n",
      "            \n",
      "        # compute the error\n",
      "        error[k+1] = np.abs(ref - x[k+1])\n",
      "\n",
      "    return x, error\n",
      "    \n",
      "\n",
      "x_0 = np.ones(3)\n",
      "A = [[ 4,  3, 0], [3,  4, -1] ,[0, -1, 4]]\n",
      "b = [24, 30, -24]\n",
      "ref = [3, 4, -5]\n",
      "\n",
      "x_GS, error_GS = GS(A, b, x_0, 4, ref)\n",
      "print x_GS, \"\\n\"\n",
      "print error_GS\n"
     ],
     "language": "python",
     "metadata": {},
     "outputs": [
      {
       "output_type": "stream",
       "stream": "stdout",
       "text": [
        "[[ 1.          1.          1.        ]\n",
        " [ 5.25        3.8125     -5.046875  ]\n",
        " [ 3.140625    3.8828125  -5.02929688]\n",
        " [ 3.08789062  3.92675781 -5.01831055]\n",
        " [ 3.05493164  3.95422363 -5.01144409]] \n",
        "\n",
        "[[ 2.          3.          6.        ]\n",
        " [ 2.25        0.1875      0.046875  ]\n",
        " [ 0.140625    0.1171875   0.02929688]\n",
        " [ 0.08789062  0.07324219  0.01831055]\n",
        " [ 0.05493164  0.04577637  0.01144409]]\n"
       ]
      }
     ],
     "prompt_number": 2
    },
    {
     "cell_type": "heading",
     "level": 2,
     "metadata": {},
     "source": [
      "Successive Over Relaxation"
     ]
    },
    {
     "cell_type": "markdown",
     "metadata": {},
     "source": [
      "Recall:\n",
      "\n",
      "for $i = 1, \\dots, n$:\n",
      "$$\\qquad x^{(k+1)}_i = (1-\\omega)x_i^{(k)} + \\frac{\\omega}{a_{ii}}(b_i - \\sum_{j=1}^{i-1} a_{ij} x_j^{(k+1)} - \\sum_{j=i+1}^{n} a_{ij} x_j^{(k)}) \\:.$$\n",
      "\n",
      "Let $\\omega = 1.25 = 5/4$\n",
      "\n",
      "Writing this out for our case gives\n",
      "\n",
      "$$\\begin{align}\n",
      "x_1^{(k+1)} &= (1-\\frac{5}{4})x_1^{(k)} + \\frac{\\frac{5}{4}}{4}(24 - 3 x_2^{(k)} - 0 x_3^{(k)}) \n",
      "= \\frac{15}{2} - \\frac{1}{4}x_1^{(k)} - \\frac{15}{16}x_2^{(k)} \\nonumber \\\\\n",
      "%\n",
      "x_2^{(k+1)} &= (1-\\frac{5}{4})x_2^{(k)} + \\frac{\\frac{5}{4}}{4}(30 - 3 x_1^{(k+1)} - (-1) x_3^{(k)}) \n",
      "= \\frac{150}{16} - \\frac{15}{16}x_1^{(k+1)} - \\frac{1}{4}x_2^{(k)} + \\frac{5}{16}x_3^{(k)}\\nonumber \\\\\n",
      "%\n",
      "x_3^{(k+1)} &= (1-\\frac{5}{4})x_3^{(k)} + \\frac{\\frac{5}{4}}{4}(-24 - 0 x_1^{(k+1)} - (-1) x_2^{(k+1)}) \n",
      "= -\\frac{15}{2} + \\frac{5}{16}x_2^{(k+1)} - \\frac{1}{4}x_3^{(k)}\\nonumber\n",
      "\\end{align}$$"
     ]
    },
    {
     "cell_type": "code",
     "collapsed": false,
     "input": [
      "def SOR(A, b, x_0, w, K, ref):\n",
      "\n",
      "    # Define the size of our system\n",
      "    n = len(x_0)\n",
      "    \n",
      "    # We've got an initial guess, x_0, and an iteration count to hit, K\n",
      "    # To track progress through the iterations, we'll store all of our\n",
      "    # estimates. You wouldn't typically do this, but we will for illustration.\n",
      "    x = np.zeros((K+1, n))\n",
      "    x[0] = x_0\n",
      "    # We'd also like to track our error (since we know the real solution)\n",
      "    error = np.zeros((K+1, n))\n",
      "    error[0] = np.abs(ref - x[0])\n",
      "    \n",
      "    for k in range(0,K):\n",
      "\n",
      "        for i in range(0, n):\n",
      "\n",
      "            # Initialize the summation terms to zero on each iteration\n",
      "            sum_1 = 0.0\n",
      "            sum_2 = 0.0\n",
      "\n",
      "            # the k+1 term from 0 to i-1 \n",
      "            for j in range(i):\n",
      "\n",
      "                sum_1 = sum_1 + A[i][j] * x[k+1][j]\n",
      "\n",
      "            # the k term from i+1 to n-1\n",
      "            for j in range(i+1, n):\n",
      "\n",
      "                sum_2 = sum_2 + A[i][j] * x[k][j]\n",
      "\n",
      "            x[k+1][i] = (1 - w) * x[k][i] + w/A[i][i] * (b[i] - sum_1 - sum_2)\n",
      "            \n",
      "        # compute the error\n",
      "        error[k+1] = np.abs(ref - x[k+1])\n",
      "\n",
      "    return x, error\n",
      "\n",
      "x_SOR, error_SOR = SOR(A, b, x_0, 1.25, 4, ref)\n",
      "print x_SOR, \"\\n\"\n",
      "print error_SOR"
     ],
     "language": "python",
     "metadata": {},
     "outputs": [
      {
       "output_type": "stream",
       "stream": "stdout",
       "text": [
        "[[ 1.          1.          1.        ]\n",
        " [ 6.3125      3.51953125 -6.65014648]\n",
        " [ 2.62231445  3.95852661 -4.60042381]\n",
        " [ 3.13330269  4.01026464 -5.09668635]\n",
        " [ 2.95705123  4.00748383 -4.97348972]] \n",
        "\n",
        "[[ 2.          3.          6.        ]\n",
        " [ 3.3125      0.48046875  1.65014648]\n",
        " [ 0.37768555  0.04147339  0.39957619]\n",
        " [ 0.13330269  0.01026464  0.09668635]\n",
        " [ 0.04294877  0.00748383  0.02651028]]\n"
       ]
      }
     ],
     "prompt_number": 3
    },
    {
     "cell_type": "markdown",
     "metadata": {},
     "source": [
      "Let's compare with a plot or two"
     ]
    },
    {
     "cell_type": "code",
     "collapsed": false,
     "input": [
      "idx = [1, 2, 3]\n",
      "plt.plot(idx, x_GS[4], 'b*')\n",
      "plt.plot(idx, x_SOR[4], 'g+')\n",
      "plt.plot(idx, ref, 'ko')\n",
      "plt.axis([0, 4, -6, 6])\n",
      "plt.legend((\"GS\", \"SOR\", \"ref\"), loc=\"lower left\")"
     ],
     "language": "python",
     "metadata": {},
     "outputs": [
      {
       "metadata": {},
       "output_type": "pyout",
       "prompt_number": 4,
       "text": [
        "<matplotlib.legend.Legend at 0x3c10750>"
       ]
      },
      {
       "metadata": {},
       "output_type": "display_data",
       "png": "[encoded data removed]",
       "text": [
        "<matplotlib.figure.Figure at 0x3be6990>"
       ]
      }
     ],
     "prompt_number": 4
    },
    {
     "cell_type": "code",
     "collapsed": false,
     "input": [
      "plt.axis([0.5, 4.5, 1e-2, 1e1])\n",
      "for k in range(1,5):\n",
      "    #print error_GS[k][0]\n",
      "    plt.semilogy(k, error_GS[k][0], 'g*')    \n",
      "plt.title(\"GS error at point 1\")"
     ],
     "language": "python",
     "metadata": {},
     "outputs": [
      {
       "metadata": {},
       "output_type": "pyout",
       "prompt_number": 5,
       "text": [
        "<matplotlib.text.Text at 0x3d4cad0>"
       ]
      },
      {
       "metadata": {},
       "output_type": "display_data",
       "png": "[encoded data removed]",
       "text": [
        "<matplotlib.figure.Figure at 0x3d2f650>"
       ]
      }
     ],
     "prompt_number": 5
    },
    {
     "cell_type": "code",
     "collapsed": false,
     "input": [
      "plt.axis([0.5, 4.5, 1e-2, 1e1])\n",
      "for k in range(1,5):\n",
      "    #print error_SOR[k][0]\n",
      "    plt.semilogy(k, error_SOR[k][0], 'g*')    \n",
      "plt.title(\"SOR error at point 1\")"
     ],
     "language": "python",
     "metadata": {},
     "outputs": [
      {
       "metadata": {},
       "output_type": "pyout",
       "prompt_number": 6,
       "text": [
        "<matplotlib.text.Text at 0x4268dd0>"
       ]
      },
      {
       "metadata": {},
       "output_type": "display_data",
       "png": "[encoded data removed]",
       "text": [
        "<matplotlib.figure.Figure at 0x409e310>"
       ]
      }
     ],
     "prompt_number": 6
    },
    {
     "cell_type": "code",
     "collapsed": false,
     "input": [],
     "language": "python",
     "metadata": {},
     "outputs": []
    }
   ],
   "metadata": {}
  }
 ]
}